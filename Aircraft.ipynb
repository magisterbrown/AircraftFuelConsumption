{
  "nbformat": 4,
  "nbformat_minor": 0,
  "metadata": {
    "accelerator": "GPU",
    "colab": {
      "name": "Aircraftfin.ipynb",
      "provenance": [],
      "collapsed_sections": [
        "-u69DsYw-790"
      ],
      "machine_shape": "hm"
    },
    "kernelspec": {
      "display_name": "Python 3",
      "language": "python",
      "name": "python3"
    },
    "language_info": {
      "codemirror_mode": {
        "name": "ipython",
        "version": 3
      },
      "file_extension": ".py",
      "mimetype": "text/x-python",
      "name": "python",
      "nbconvert_exporter": "python",
      "pygments_lexer": "ipython3",
      "version": "3.6.8"
    }
  },
  "cells": [
    {
      "cell_type": "markdown",
      "metadata": {
        "colab_type": "text",
        "id": "Tml_5WrDRh2c"
      },
      "source": [
        "# AircraftFuelConsumption\n",
        "Competition with dataset:https://www.crowdanalytix.com/contests/predict-fuel-flow-rate-of-airplanes-during-different-phases-of-a-flight"
      ]
    },
    {
      "cell_type": "markdown",
      "metadata": {
        "colab_type": "text",
        "id": "LWqOA7xJR5NQ"
      },
      "source": [
        "# Imoptrs"
      ]
    },
    {
      "cell_type": "code",
      "metadata": {
        "colab_type": "code",
        "id": "sGoM9lOpChhS",
        "outputId": "4cce5598-e578-4d9a-e56f-61873359df50",
        "colab": {
          "base_uri": "https://localhost:8080/",
          "height": 122
        }
      },
      "source": [
        "from google.colab import drive\n",
        "drive.mount('/content/drive')"
      ],
      "execution_count": 1,
      "outputs": [
        {
          "output_type": "stream",
          "text": [
            "Go to this URL in a browser: https://accounts.google.com/o/oauth2/auth?client_id=947318989803-6bn6qk8qdgf4n4g3pfee6491hc0brc4i.apps.googleusercontent.com&redirect_uri=urn%3aietf%3awg%3aoauth%3a2.0%3aoob&response_type=code&scope=email%20https%3a%2f%2fwww.googleapis.com%2fauth%2fdocs.test%20https%3a%2f%2fwww.googleapis.com%2fauth%2fdrive%20https%3a%2f%2fwww.googleapis.com%2fauth%2fdrive.photos.readonly%20https%3a%2f%2fwww.googleapis.com%2fauth%2fpeopleapi.readonly\n",
            "\n",
            "Enter your authorization code:\n",
            "··········\n",
            "Mounted at /content/drive\n"
          ],
          "name": "stdout"
        }
      ]
    },
    {
      "cell_type": "code",
      "metadata": {
        "colab_type": "code",
        "id": "od8a4_5Wl26F",
        "outputId": "314a4421-4b4f-4c1a-b314-01734ff46e4e",
        "colab": {
          "base_uri": "https://localhost:8080/",
          "height": 34
        }
      },
      "source": [
        "%cd '/content/drive/My Drive/FuelProject/data'"
      ],
      "execution_count": 2,
      "outputs": [
        {
          "output_type": "stream",
          "text": [
            "/content/drive/My Drive/FuelProject/data\n"
          ],
          "name": "stdout"
        }
      ]
    },
    {
      "cell_type": "code",
      "metadata": {
        "colab_type": "code",
        "id": "jD7OvA_n4Paz",
        "colab": {}
      },
      "source": [
        "!pip3 install eli5\n",
        "!pip3 install pdpbox\n",
        "!pip3 install category_encoders"
      ],
      "execution_count": 0,
      "outputs": []
    },
    {
      "cell_type": "code",
      "metadata": {
        "id": "qzyubL3UfTTj",
        "colab_type": "code",
        "colab": {}
      },
      "source": [
        "import os\n",
        "import sys\n",
        "nb_dir = os.path.split(os.getcwd())[0]\n",
        "if nb_dir not in sys.path:\n",
        "    sys.path.append(nb_dir)\n",
        "\n",
        "import imports"
      ],
      "execution_count": 0,
      "outputs": []
    },
    {
      "cell_type": "markdown",
      "metadata": {
        "colab_type": "text",
        "id": "_L_6XhTqR93c"
      },
      "source": [
        "# Data"
      ]
    },
    {
      "cell_type": "code",
      "metadata": {
        "colab_type": "code",
        "id": "3GHiuc-GGkl6",
        "colab": {}
      },
      "source": [
        "test_sam = pd.read_csv(\"CAX_Test_sub.csv\")"
      ],
      "execution_count": 0,
      "outputs": []
    },
    {
      "cell_type": "code",
      "metadata": {
        "colab_type": "code",
        "id": "dOP6j6x5y7t8",
        "colab": {}
      },
      "source": [
        "traine = pd.read_csv(\"train_unstruc.csv\")"
      ],
      "execution_count": 0,
      "outputs": []
    },
    {
      "cell_type": "code",
      "metadata": {
        "colab_type": "code",
        "id": "P3G3cNc54xE0",
        "colab": {}
      },
      "source": [
        "traine = remove_rows_val(traine, \"Year\", \"Year\")\n",
        "traine = drop_unvariance(traine)\n",
        "traine = elapsed(traine, 1, 7)"
      ],
      "execution_count": 0,
      "outputs": []
    },
    {
      "cell_type": "markdown",
      "metadata": {
        "colab_type": "text",
        "id": "-u69DsYw-790"
      },
      "source": [
        "# Train test selection"
      ]
    },
    {
      "cell_type": "markdown",
      "metadata": {
        "colab_type": "text",
        "id": "366E0ujJIR4h"
      },
      "source": [
        "In this section RF is used to predict which line is from test set and which from train set. Then feature importance shows difference beween thouse sets.\n"
      ]
    },
    {
      "cell_type": "code",
      "metadata": {
        "colab_type": "code",
        "id": "66dllkJIJd4O",
        "colab": {}
      },
      "source": [
        "train_sam=traine.sample(50000)"
      ],
      "execution_count": 0,
      "outputs": []
    },
    {
      "cell_type": "code",
      "metadata": {
        "colab_type": "code",
        "id": "e5LiD6-HQ6_l",
        "colab": {}
      },
      "source": [
        "test_sam.drop(columns=[\"FF\"], inplace=True)\n",
        "train_sam.drop(columns=[\"FF\", \"elapsed\"], inplace=True)\n",
        "test_sam[\"Predictor\"] = 0\n",
        "train_sam[\"Predictor\"] = 1\n",
        "search_df = test_sam[train_sam.columns].append(train_sam)"
      ],
      "execution_count": 0,
      "outputs": []
    },
    {
      "cell_type": "code",
      "metadata": {
        "colab_type": "code",
        "id": "gHp4wAkKWYgj",
        "outputId": "8f1eeb7c-da49-489c-a617-0cc36de28a4a",
        "colab": {
          "base_uri": "https://localhost:8080/",
          "height": 156
        }
      },
      "source": [
        "split_model = RandomForestClassifier(n_estimators=75)\n",
        "split_model.fit(search_df.drop(columns=[\"Predictor\"]), search_df[\"Predictor\"])"
      ],
      "execution_count": 0,
      "outputs": [
        {
          "output_type": "execute_result",
          "data": {
            "text/plain": [
              "RandomForestClassifier(bootstrap=True, ccp_alpha=0.0, class_weight=None,\n",
              "                       criterion='gini', max_depth=None, max_features='auto',\n",
              "                       max_leaf_nodes=None, max_samples=None,\n",
              "                       min_impurity_decrease=0.0, min_impurity_split=None,\n",
              "                       min_samples_leaf=1, min_samples_split=2,\n",
              "                       min_weight_fraction_leaf=0.0, n_estimators=75,\n",
              "                       n_jobs=None, oob_score=False, random_state=None,\n",
              "                       verbose=0, warm_start=False)"
            ]
          },
          "metadata": {
            "tags": []
          },
          "execution_count": 11
        }
      ]
    },
    {
      "cell_type": "code",
      "metadata": {
        "colab_type": "code",
        "id": "Ozl4PD4SMv-r",
        "outputId": "411b58bc-4697-40ef-9f3f-925622e18a39",
        "colab": {
          "base_uri": "https://localhost:8080/",
          "height": 389
        }
      },
      "source": [
        "_ = feat_importance(\n",
        "    split_model.feature_importances_, search_df.drop(columns=[\"Predictor\"]), True\n",
        ")"
      ],
      "execution_count": 0,
      "outputs": [
        {
          "output_type": "display_data",
          "data": {
            "image/png": "[encoded data removed]",
            "text/plain": [
              "<Figure size 720x432 with 1 Axes>"
            ]
          },
          "metadata": {
            "tags": []
          }
        }
      ]
    },
    {
      "cell_type": "code",
      "metadata": {
        "colab_type": "code",
        "id": "q9G3tX6TQU1M",
        "outputId": "b93336b3-a277-415c-dcf5-99ad2f8465dc",
        "colab": {
          "base_uri": "https://localhost:8080/",
          "height": 52
        }
      },
      "source": [
        "print(\"Train: \" + str(train_sam[\"Year\"].unique()))\n",
        "print(\"Test: \" + str(test_sam[\"Year\"].unique()))"
      ],
      "execution_count": 0,
      "outputs": [
        {
          "output_type": "stream",
          "text": [
            "Train: [2002. 2004. 2003.]\n",
            "Test: [2001.]\n"
          ],
          "name": "stdout"
        }
      ]
    },
    {
      "cell_type": "markdown",
      "metadata": {
        "colab_type": "text",
        "id": "9gCGkp6TQOIX"
      },
      "source": [
        "\n",
        "\n",
        "*   This bar chart shows that Data in test set is from years before train data.\n",
        "*   \"Flight_instance_ID\" in different sets should not intercept.\n",
        "\n"
      ]
    },
    {
      "cell_type": "markdown",
      "metadata": {
        "colab_type": "text",
        "id": "ALfmqOUbSzq4"
      },
      "source": [
        "#Mixed data"
      ]
    },
    {
      "cell_type": "markdown",
      "metadata": {
        "colab_type": "text",
        "id": "f_FYOWELnGou"
      },
      "source": [
        "Data in this dataset is taken randomly form different flights. So model can approximate better."
      ]
    },
    {
      "cell_type": "code",
      "metadata": {
        "colab_type": "code",
        "id": "uXeZav-s6_QO",
        "colab": {}
      },
      "source": [
        "val_X, val_y, rest = mix_split(\n",
        "    traine, [\"Year\", \"Month\"], \"FF\", \"Flight_instance_ID\", 50000\n",
        ")\n",
        "test_X, test_y, rest = mix_split(\n",
        "    rest, [\"Year\", \"Month\"], \"FF\", \"Flight_instance_ID\", 50000\n",
        ")\n",
        "train_X, train_y, _ = mix_split(\n",
        "    rest.sample(350000), [\"Year\", \"Month\"], \"FF\", \"Flight_instance_ID\", -1\n",
        ")"
      ],
      "execution_count": 0,
      "outputs": []
    },
    {
      "cell_type": "markdown",
      "metadata": {
        "colab_type": "text",
        "id": "8CGiOLqsS2gN"
      },
      "source": [
        "#Complete data"
      ]
    },
    {
      "cell_type": "markdown",
      "metadata": {
        "colab_type": "text",
        "id": "yK0bi9iPnVSL"
      },
      "source": [
        "This dataset contains all known data about each flight in it. So there is more opportunities for preprocessing."
      ]
    },
    {
      "cell_type": "code",
      "metadata": {
        "colab_type": "code",
        "id": "6U8_DwClS87O",
        "colab": {}
      },
      "source": [
        "traine_cm = pd.read_csv(\"train_struc.csv\")\n",
        "traine_cm = remove_rows_val(traine_cm, \"Year\", \"Year\")\n",
        "traine_cm = elapsed(traine_cm, 2, 8)"
      ],
      "execution_count": 0,
      "outputs": []
    },
    {
      "cell_type": "code",
      "metadata": {
        "colab_type": "code",
        "id": "haP3PoOKTq1-",
        "outputId": "42bd3112-8a1c-4976-e6da-66d97f80d9b8",
        "colab": {
          "base_uri": "https://localhost:8080/",
          "height": 34
        }
      },
      "source": [
        "traine_cm[\"Flight_instance_ID\"].unique().size"
      ],
      "execution_count": 8,
      "outputs": [
        {
          "output_type": "execute_result",
          "data": {
            "text/plain": [
              "143"
            ]
          },
          "metadata": {
            "tags": []
          },
          "execution_count": 8
        }
      ]
    },
    {
      "cell_type": "markdown",
      "metadata": {
        "colab_type": "text",
        "id": "5Icns5GrVxn5"
      },
      "source": [
        "In this set there is data about 143 unique flights"
      ]
    },
    {
      "cell_type": "code",
      "metadata": {
        "colab_type": "code",
        "id": "XIvodBwIhKV8",
        "outputId": "1debae0d-6c32-4ce0-8b71-03f1f9363599",
        "colab": {
          "base_uri": "https://localhost:8080/",
          "height": 253
        }
      },
      "source": [
        "traine_cm.head(5)"
      ],
      "execution_count": 9,
      "outputs": [
        {
          "output_type": "execute_result",
          "data": {
            "text/html": [
              "<div>\n",
              "<style scoped>\n",
              "    .dataframe tbody tr th:only-of-type {\n",
              "        vertical-align: middle;\n",
              "    }\n",
              "\n",
              "    .dataframe tbody tr th {\n",
              "        vertical-align: top;\n",
              "    }\n",
              "\n",
              "    .dataframe thead th {\n",
              "        text-align: right;\n",
              "    }\n",
              "</style>\n",
              "<table border=\"1\" class=\"dataframe\">\n",
              "  <thead>\n",
              "    <tr style=\"text-align: right;\">\n",
              "      <th></th>\n",
              "      <th>ACID</th>\n",
              "      <th>Flight_instance_ID</th>\n",
              "      <th>Year</th>\n",
              "      <th>Month</th>\n",
              "      <th>Day</th>\n",
              "      <th>Hour</th>\n",
              "      <th>Minute</th>\n",
              "      <th>Second</th>\n",
              "      <th>ABRK</th>\n",
              "      <th>ELEV_1</th>\n",
              "      <th>ELEV_2</th>\n",
              "      <th>EVNT</th>\n",
              "      <th>FADF</th>\n",
              "      <th>FADS</th>\n",
              "      <th>FGC3</th>\n",
              "      <th>FIRE_1</th>\n",
              "      <th>FIRE_2</th>\n",
              "      <th>FIRE_3</th>\n",
              "      <th>FIRE_4</th>\n",
              "      <th>FLAP</th>\n",
              "      <th>FQTY_1</th>\n",
              "      <th>FQTY_2</th>\n",
              "      <th>FQTY_3</th>\n",
              "      <th>FQTY_4</th>\n",
              "      <th>GLS</th>\n",
              "      <th>GPWS</th>\n",
              "      <th>HDGS</th>\n",
              "      <th>HF1</th>\n",
              "      <th>HF2</th>\n",
              "      <th>HYDG</th>\n",
              "      <th>HYDY</th>\n",
              "      <th>ILSF</th>\n",
              "      <th>LATP</th>\n",
              "      <th>LMOD</th>\n",
              "      <th>LOC</th>\n",
              "      <th>LONP</th>\n",
              "      <th>MNS</th>\n",
              "      <th>MRK</th>\n",
              "      <th>MW</th>\n",
              "      <th>N1CO</th>\n",
              "      <th>...</th>\n",
              "      <th>WS_Mean</th>\n",
              "      <th>WS_Min</th>\n",
              "      <th>WS_Max</th>\n",
              "      <th>RALT_Mean</th>\n",
              "      <th>RALT_Min</th>\n",
              "      <th>RALT_Max</th>\n",
              "      <th>ROLL_Mean</th>\n",
              "      <th>ROLL_Min</th>\n",
              "      <th>ROLL_Max</th>\n",
              "      <th>VRTG_Mean</th>\n",
              "      <th>VRTG_Min</th>\n",
              "      <th>VRTG_Max</th>\n",
              "      <th>CTAC_Mean</th>\n",
              "      <th>CTAC_Min</th>\n",
              "      <th>CTAC_Max</th>\n",
              "      <th>FPAC_Mean</th>\n",
              "      <th>FPAC_Min</th>\n",
              "      <th>FPAC_Max</th>\n",
              "      <th>IVV_Mean</th>\n",
              "      <th>IVV_Min</th>\n",
              "      <th>IVV_Max</th>\n",
              "      <th>ACMT</th>\n",
              "      <th>AIL_1</th>\n",
              "      <th>AIL_2</th>\n",
              "      <th>ALTS</th>\n",
              "      <th>APFD</th>\n",
              "      <th>A_T</th>\n",
              "      <th>BLV</th>\n",
              "      <th>BPGR_1</th>\n",
              "      <th>BPGR_2</th>\n",
              "      <th>BPYR_1</th>\n",
              "      <th>BPYR_2</th>\n",
              "      <th>CALT</th>\n",
              "      <th>CASS</th>\n",
              "      <th>CRSS</th>\n",
              "      <th>DFGS</th>\n",
              "      <th>DWPT</th>\n",
              "      <th>EAI</th>\n",
              "      <th>FF</th>\n",
              "      <th>elapsed</th>\n",
              "    </tr>\n",
              "  </thead>\n",
              "  <tbody>\n",
              "    <tr>\n",
              "      <th>145706</th>\n",
              "      <td>676.0</td>\n",
              "      <td>6.762010e+14</td>\n",
              "      <td>2002.0</td>\n",
              "      <td>3.0</td>\n",
              "      <td>9.0</td>\n",
              "      <td>14.0</td>\n",
              "      <td>56.0</td>\n",
              "      <td>12.0</td>\n",
              "      <td>119.96891</td>\n",
              "      <td>21.908501</td>\n",
              "      <td>60.578156</td>\n",
              "      <td>1.0</td>\n",
              "      <td>15.0</td>\n",
              "      <td>15.0</td>\n",
              "      <td>120.0</td>\n",
              "      <td>0.0</td>\n",
              "      <td>0.0</td>\n",
              "      <td>0.0</td>\n",
              "      <td>0.0</td>\n",
              "      <td>95.0</td>\n",
              "      <td>8072.0</td>\n",
              "      <td>0.0</td>\n",
              "      <td>0.0</td>\n",
              "      <td>7928.0</td>\n",
              "      <td>-0.00156</td>\n",
              "      <td>1.0</td>\n",
              "      <td>-120.057738</td>\n",
              "      <td>1.0</td>\n",
              "      <td>1.0</td>\n",
              "      <td>0.0</td>\n",
              "      <td>0.0</td>\n",
              "      <td>100.0</td>\n",
              "      <td>33.56392</td>\n",
              "      <td>12.0</td>\n",
              "      <td>-0.005488</td>\n",
              "      <td>-86.749769</td>\n",
              "      <td>208.0</td>\n",
              "      <td>7.0</td>\n",
              "      <td>0.0</td>\n",
              "      <td>1.0</td>\n",
              "      <td>...</td>\n",
              "      <td>0.0</td>\n",
              "      <td>0.0</td>\n",
              "      <td>0.0</td>\n",
              "      <td>-0.78125</td>\n",
              "      <td>-0.875</td>\n",
              "      <td>-0.75</td>\n",
              "      <td>-0.406483</td>\n",
              "      <td>-0.406483</td>\n",
              "      <td>-0.406483</td>\n",
              "      <td>0.988978</td>\n",
              "      <td>0.987834</td>\n",
              "      <td>0.990123</td>\n",
              "      <td>0.0</td>\n",
              "      <td>0.0</td>\n",
              "      <td>0.0</td>\n",
              "      <td>0.0</td>\n",
              "      <td>0.0</td>\n",
              "      <td>0.0</td>\n",
              "      <td>-0.8750</td>\n",
              "      <td>-1.0</td>\n",
              "      <td>0.0</td>\n",
              "      <td>60.0</td>\n",
              "      <td>85.086838</td>\n",
              "      <td>81.997681</td>\n",
              "      <td>5000.0</td>\n",
              "      <td>2.0</td>\n",
              "      <td>1.0</td>\n",
              "      <td>0.0</td>\n",
              "      <td>0.0</td>\n",
              "      <td>48.828247</td>\n",
              "      <td>2036.137939</td>\n",
              "      <td>0.0</td>\n",
              "      <td>0.0</td>\n",
              "      <td>137.0</td>\n",
              "      <td>-60.028868</td>\n",
              "      <td>1.0</td>\n",
              "      <td>60632.0</td>\n",
              "      <td>0.0</td>\n",
              "      <td>0.0</td>\n",
              "      <td>1.015686e+09</td>\n",
              "    </tr>\n",
              "    <tr>\n",
              "      <th>145707</th>\n",
              "      <td>676.0</td>\n",
              "      <td>6.762010e+14</td>\n",
              "      <td>2002.0</td>\n",
              "      <td>3.0</td>\n",
              "      <td>9.0</td>\n",
              "      <td>14.0</td>\n",
              "      <td>56.0</td>\n",
              "      <td>13.0</td>\n",
              "      <td>119.96891</td>\n",
              "      <td>21.908501</td>\n",
              "      <td>60.578156</td>\n",
              "      <td>1.0</td>\n",
              "      <td>15.0</td>\n",
              "      <td>15.0</td>\n",
              "      <td>120.0</td>\n",
              "      <td>0.0</td>\n",
              "      <td>0.0</td>\n",
              "      <td>0.0</td>\n",
              "      <td>0.0</td>\n",
              "      <td>94.0</td>\n",
              "      <td>8072.0</td>\n",
              "      <td>0.0</td>\n",
              "      <td>0.0</td>\n",
              "      <td>7928.0</td>\n",
              "      <td>-0.00156</td>\n",
              "      <td>1.0</td>\n",
              "      <td>-120.057738</td>\n",
              "      <td>1.0</td>\n",
              "      <td>1.0</td>\n",
              "      <td>0.0</td>\n",
              "      <td>0.0</td>\n",
              "      <td>100.0</td>\n",
              "      <td>33.56392</td>\n",
              "      <td>12.0</td>\n",
              "      <td>0.000000</td>\n",
              "      <td>-86.749769</td>\n",
              "      <td>208.0</td>\n",
              "      <td>7.0</td>\n",
              "      <td>0.0</td>\n",
              "      <td>1.0</td>\n",
              "      <td>...</td>\n",
              "      <td>0.0</td>\n",
              "      <td>0.0</td>\n",
              "      <td>0.0</td>\n",
              "      <td>-0.81250</td>\n",
              "      <td>-0.875</td>\n",
              "      <td>-0.75</td>\n",
              "      <td>-0.402363</td>\n",
              "      <td>-0.406483</td>\n",
              "      <td>-0.395497</td>\n",
              "      <td>0.988120</td>\n",
              "      <td>0.987834</td>\n",
              "      <td>0.990123</td>\n",
              "      <td>0.0</td>\n",
              "      <td>0.0</td>\n",
              "      <td>0.0</td>\n",
              "      <td>0.0</td>\n",
              "      <td>0.0</td>\n",
              "      <td>0.0</td>\n",
              "      <td>-1.0000</td>\n",
              "      <td>-1.0</td>\n",
              "      <td>-1.0</td>\n",
              "      <td>60.0</td>\n",
              "      <td>85.086838</td>\n",
              "      <td>81.956764</td>\n",
              "      <td>5000.0</td>\n",
              "      <td>2.0</td>\n",
              "      <td>1.0</td>\n",
              "      <td>0.0</td>\n",
              "      <td>0.0</td>\n",
              "      <td>43.945423</td>\n",
              "      <td>2036.137939</td>\n",
              "      <td>0.0</td>\n",
              "      <td>0.0</td>\n",
              "      <td>137.0</td>\n",
              "      <td>-60.028868</td>\n",
              "      <td>1.0</td>\n",
              "      <td>60632.0</td>\n",
              "      <td>0.0</td>\n",
              "      <td>0.0</td>\n",
              "      <td>1.015686e+09</td>\n",
              "    </tr>\n",
              "    <tr>\n",
              "      <th>145708</th>\n",
              "      <td>676.0</td>\n",
              "      <td>6.762010e+14</td>\n",
              "      <td>2002.0</td>\n",
              "      <td>3.0</td>\n",
              "      <td>9.0</td>\n",
              "      <td>14.0</td>\n",
              "      <td>56.0</td>\n",
              "      <td>14.0</td>\n",
              "      <td>119.96891</td>\n",
              "      <td>21.928959</td>\n",
              "      <td>60.578156</td>\n",
              "      <td>1.0</td>\n",
              "      <td>15.0</td>\n",
              "      <td>15.0</td>\n",
              "      <td>120.0</td>\n",
              "      <td>0.0</td>\n",
              "      <td>0.0</td>\n",
              "      <td>0.0</td>\n",
              "      <td>0.0</td>\n",
              "      <td>94.0</td>\n",
              "      <td>8072.0</td>\n",
              "      <td>0.0</td>\n",
              "      <td>0.0</td>\n",
              "      <td>7928.0</td>\n",
              "      <td>-0.00156</td>\n",
              "      <td>1.0</td>\n",
              "      <td>-120.057738</td>\n",
              "      <td>1.0</td>\n",
              "      <td>1.0</td>\n",
              "      <td>0.0</td>\n",
              "      <td>0.0</td>\n",
              "      <td>100.0</td>\n",
              "      <td>33.56392</td>\n",
              "      <td>12.0</td>\n",
              "      <td>-0.001176</td>\n",
              "      <td>-86.749769</td>\n",
              "      <td>208.0</td>\n",
              "      <td>7.0</td>\n",
              "      <td>0.0</td>\n",
              "      <td>1.0</td>\n",
              "      <td>...</td>\n",
              "      <td>0.0</td>\n",
              "      <td>0.0</td>\n",
              "      <td>0.0</td>\n",
              "      <td>-0.81250</td>\n",
              "      <td>-0.875</td>\n",
              "      <td>-0.75</td>\n",
              "      <td>-0.406483</td>\n",
              "      <td>-0.406483</td>\n",
              "      <td>-0.406483</td>\n",
              "      <td>0.988120</td>\n",
              "      <td>0.987834</td>\n",
              "      <td>0.990123</td>\n",
              "      <td>0.0</td>\n",
              "      <td>0.0</td>\n",
              "      <td>0.0</td>\n",
              "      <td>0.0</td>\n",
              "      <td>0.0</td>\n",
              "      <td>0.0</td>\n",
              "      <td>-0.5000</td>\n",
              "      <td>-1.0</td>\n",
              "      <td>0.0</td>\n",
              "      <td>60.0</td>\n",
              "      <td>85.086838</td>\n",
              "      <td>81.977219</td>\n",
              "      <td>5000.0</td>\n",
              "      <td>2.0</td>\n",
              "      <td>1.0</td>\n",
              "      <td>0.0</td>\n",
              "      <td>0.0</td>\n",
              "      <td>48.828247</td>\n",
              "      <td>2036.137939</td>\n",
              "      <td>0.0</td>\n",
              "      <td>0.0</td>\n",
              "      <td>137.0</td>\n",
              "      <td>-60.028868</td>\n",
              "      <td>1.0</td>\n",
              "      <td>60632.0</td>\n",
              "      <td>0.0</td>\n",
              "      <td>0.0</td>\n",
              "      <td>1.015686e+09</td>\n",
              "    </tr>\n",
              "    <tr>\n",
              "      <th>145709</th>\n",
              "      <td>676.0</td>\n",
              "      <td>6.762010e+14</td>\n",
              "      <td>2002.0</td>\n",
              "      <td>3.0</td>\n",
              "      <td>9.0</td>\n",
              "      <td>14.0</td>\n",
              "      <td>56.0</td>\n",
              "      <td>15.0</td>\n",
              "      <td>119.96891</td>\n",
              "      <td>21.908501</td>\n",
              "      <td>60.578156</td>\n",
              "      <td>1.0</td>\n",
              "      <td>15.0</td>\n",
              "      <td>15.0</td>\n",
              "      <td>120.0</td>\n",
              "      <td>0.0</td>\n",
              "      <td>0.0</td>\n",
              "      <td>0.0</td>\n",
              "      <td>0.0</td>\n",
              "      <td>95.0</td>\n",
              "      <td>8072.0</td>\n",
              "      <td>0.0</td>\n",
              "      <td>0.0</td>\n",
              "      <td>7928.0</td>\n",
              "      <td>-0.00156</td>\n",
              "      <td>1.0</td>\n",
              "      <td>-120.057738</td>\n",
              "      <td>1.0</td>\n",
              "      <td>1.0</td>\n",
              "      <td>0.0</td>\n",
              "      <td>0.0</td>\n",
              "      <td>100.0</td>\n",
              "      <td>33.56392</td>\n",
              "      <td>12.0</td>\n",
              "      <td>-0.001764</td>\n",
              "      <td>-86.749769</td>\n",
              "      <td>208.0</td>\n",
              "      <td>7.0</td>\n",
              "      <td>0.0</td>\n",
              "      <td>1.0</td>\n",
              "      <td>...</td>\n",
              "      <td>0.0</td>\n",
              "      <td>0.0</td>\n",
              "      <td>0.0</td>\n",
              "      <td>-0.78125</td>\n",
              "      <td>-0.875</td>\n",
              "      <td>-0.75</td>\n",
              "      <td>-0.405110</td>\n",
              "      <td>-0.406483</td>\n",
              "      <td>-0.395497</td>\n",
              "      <td>0.988120</td>\n",
              "      <td>0.987834</td>\n",
              "      <td>0.990123</td>\n",
              "      <td>0.0</td>\n",
              "      <td>0.0</td>\n",
              "      <td>0.0</td>\n",
              "      <td>0.0</td>\n",
              "      <td>0.0</td>\n",
              "      <td>0.0</td>\n",
              "      <td>-0.1250</td>\n",
              "      <td>-1.0</td>\n",
              "      <td>0.0</td>\n",
              "      <td>60.0</td>\n",
              "      <td>85.066376</td>\n",
              "      <td>81.977219</td>\n",
              "      <td>5000.0</td>\n",
              "      <td>2.0</td>\n",
              "      <td>1.0</td>\n",
              "      <td>0.0</td>\n",
              "      <td>0.0</td>\n",
              "      <td>48.828247</td>\n",
              "      <td>2036.137939</td>\n",
              "      <td>0.0</td>\n",
              "      <td>0.0</td>\n",
              "      <td>137.0</td>\n",
              "      <td>-60.028868</td>\n",
              "      <td>1.0</td>\n",
              "      <td>60632.0</td>\n",
              "      <td>0.0</td>\n",
              "      <td>0.0</td>\n",
              "      <td>1.015686e+09</td>\n",
              "    </tr>\n",
              "    <tr>\n",
              "      <th>145710</th>\n",
              "      <td>676.0</td>\n",
              "      <td>6.762010e+14</td>\n",
              "      <td>2002.0</td>\n",
              "      <td>3.0</td>\n",
              "      <td>9.0</td>\n",
              "      <td>14.0</td>\n",
              "      <td>56.0</td>\n",
              "      <td>16.0</td>\n",
              "      <td>119.96891</td>\n",
              "      <td>21.908501</td>\n",
              "      <td>60.578156</td>\n",
              "      <td>1.0</td>\n",
              "      <td>15.0</td>\n",
              "      <td>15.0</td>\n",
              "      <td>120.0</td>\n",
              "      <td>0.0</td>\n",
              "      <td>0.0</td>\n",
              "      <td>0.0</td>\n",
              "      <td>0.0</td>\n",
              "      <td>94.0</td>\n",
              "      <td>8072.0</td>\n",
              "      <td>0.0</td>\n",
              "      <td>0.0</td>\n",
              "      <td>7928.0</td>\n",
              "      <td>-0.00156</td>\n",
              "      <td>1.0</td>\n",
              "      <td>-120.057738</td>\n",
              "      <td>1.0</td>\n",
              "      <td>1.0</td>\n",
              "      <td>0.0</td>\n",
              "      <td>0.0</td>\n",
              "      <td>100.0</td>\n",
              "      <td>33.56392</td>\n",
              "      <td>12.0</td>\n",
              "      <td>-0.013132</td>\n",
              "      <td>-86.749769</td>\n",
              "      <td>208.0</td>\n",
              "      <td>7.0</td>\n",
              "      <td>0.0</td>\n",
              "      <td>1.0</td>\n",
              "      <td>...</td>\n",
              "      <td>0.0</td>\n",
              "      <td>0.0</td>\n",
              "      <td>0.0</td>\n",
              "      <td>-0.78125</td>\n",
              "      <td>-0.875</td>\n",
              "      <td>-0.75</td>\n",
              "      <td>-0.399617</td>\n",
              "      <td>-0.406483</td>\n",
              "      <td>-0.395497</td>\n",
              "      <td>0.988120</td>\n",
              "      <td>0.987834</td>\n",
              "      <td>0.990123</td>\n",
              "      <td>0.0</td>\n",
              "      <td>0.0</td>\n",
              "      <td>0.0</td>\n",
              "      <td>0.0</td>\n",
              "      <td>0.0</td>\n",
              "      <td>0.0</td>\n",
              "      <td>-0.3125</td>\n",
              "      <td>-1.0</td>\n",
              "      <td>0.0</td>\n",
              "      <td>60.0</td>\n",
              "      <td>85.086838</td>\n",
              "      <td>81.997681</td>\n",
              "      <td>5000.0</td>\n",
              "      <td>2.0</td>\n",
              "      <td>1.0</td>\n",
              "      <td>0.0</td>\n",
              "      <td>0.0</td>\n",
              "      <td>43.945423</td>\n",
              "      <td>2036.137939</td>\n",
              "      <td>0.0</td>\n",
              "      <td>0.0</td>\n",
              "      <td>137.0</td>\n",
              "      <td>-60.028868</td>\n",
              "      <td>1.0</td>\n",
              "      <td>60632.0</td>\n",
              "      <td>0.0</td>\n",
              "      <td>0.0</td>\n",
              "      <td>1.015686e+09</td>\n",
              "    </tr>\n",
              "  </tbody>\n",
              "</table>\n",
              "<p>5 rows × 227 columns</p>\n",
              "</div>"
            ],
            "text/plain": [
              "         ACID  Flight_instance_ID    Year  ...  EAI   FF       elapsed\n",
              "145706  676.0        6.762010e+14  2002.0  ...  0.0  0.0  1.015686e+09\n",
              "145707  676.0        6.762010e+14  2002.0  ...  0.0  0.0  1.015686e+09\n",
              "145708  676.0        6.762010e+14  2002.0  ...  0.0  0.0  1.015686e+09\n",
              "145709  676.0        6.762010e+14  2002.0  ...  0.0  0.0  1.015686e+09\n",
              "145710  676.0        6.762010e+14  2002.0  ...  0.0  0.0  1.015686e+09\n",
              "\n",
              "[5 rows x 227 columns]"
            ]
          },
          "metadata": {
            "tags": []
          },
          "execution_count": 9
        }
      ]
    },
    {
      "cell_type": "code",
      "metadata": {
        "colab_type": "code",
        "id": "LYj8E21Nq61F",
        "colab": {}
      },
      "source": [
        "traine_cm = smart_subsample(traine_cm, \"Flight_instance_ID\", 3000)\n",
        "traine_cm = drop_unvariance(traine_cm)"
      ],
      "execution_count": 0,
      "outputs": []
    },
    {
      "cell_type": "code",
      "metadata": {
        "colab_type": "code",
        "id": "SHh3ovoZlkx9",
        "colab": {}
      },
      "source": [
        "train = traine_cm\n",
        "val_X, val_y = clean_split(traine_cm, 0, 20, \"FF\")\n",
        "test_X, test_y = clean_split(traine_cm, 20, 40, \"FF\")"
      ],
      "execution_count": 0,
      "outputs": []
    },
    {
      "cell_type": "code",
      "metadata": {
        "colab_type": "code",
        "id": "XRmtt8lBwRd3",
        "colab": {}
      },
      "source": [
        "train_X, train_y = clean_split(traine_cm, 40, -1, \"FF\")"
      ],
      "execution_count": 0,
      "outputs": []
    },
    {
      "cell_type": "markdown",
      "metadata": {
        "colab_type": "text",
        "id": "ghQAWjxQ_Bqb"
      },
      "source": [
        "# A little bit of analysis"
      ]
    },
    {
      "cell_type": "code",
      "metadata": {
        "colab_type": "code",
        "id": "Jg9BKtCbzP32",
        "colab": {}
      },
      "source": [
        "featcorr = CorrCount(train_X, 0.9)"
      ],
      "execution_count": 0,
      "outputs": []
    },
    {
      "cell_type": "markdown",
      "metadata": {
        "colab_type": "text",
        "id": "LBnrZNnozNMl"
      },
      "source": [
        ""
      ]
    },
    {
      "cell_type": "code",
      "metadata": {
        "colab_type": "code",
        "id": "xS3-puYtyRU7",
        "outputId": "fd56a9b4-2fa7-47bf-c8b3-536064922b8f",
        "colab": {
          "base_uri": "https://localhost:8080/",
          "height": 622
        }
      },
      "source": [
        "fig, axbo = plt.subplots(1, 1, figsize=(15, 9))\n",
        "sns.heatmap(featcorr.correlation, ax=axbo)\n",
        "plt.show()"
      ],
      "execution_count": 14,
      "outputs": [
        {
          "output_type": "display_data",
          "data": {
            "image/png": "[encoded data removed]",
            "text/plain": [
              "<Figure size 1080x648 with 2 Axes>"
            ]
          },
          "metadata": {
            "tags": []
          }
        }
      ]
    },
    {
      "cell_type": "markdown",
      "metadata": {
        "colab_type": "text",
        "id": "KQwebnr0rREQ"
      },
      "source": [
        "We can see that in date set many independent features duplicate each other."
      ]
    },
    {
      "cell_type": "markdown",
      "metadata": {
        "colab_type": "text",
        "id": "GSlUu3Y3fUxi"
      },
      "source": [
        "#PH analys"
      ]
    },
    {
      "cell_type": "markdown",
      "metadata": {
        "colab_type": "text",
        "id": "b07WeT7hsEvW"
      },
      "source": [
        "This charts represents average fuel consumption during different phases of the flight."
      ]
    },
    {
      "cell_type": "code",
      "metadata": {
        "colab_type": "code",
        "id": "uAbBbL5hjYIc",
        "colab": {}
      },
      "source": [
        "phticks = [\n",
        "    \"Unknown\",\n",
        "    \"Preflight\",\n",
        "    \"Taxi\",\n",
        "    \"Takeoff\",\n",
        "    \"Climb\",\n",
        "    \"Cruise\",\n",
        "    \"Approuch\",\n",
        "    \"Rollout\",\n",
        "]"
      ],
      "execution_count": 0,
      "outputs": []
    },
    {
      "cell_type": "code",
      "metadata": {
        "colab_type": "code",
        "id": "Y-WO-AXSfT-M",
        "outputId": "a95aaffc-9009-4249-f121-c07561ee2ad3",
        "colab": {
          "base_uri": "https://localhost:8080/",
          "height": 295
        }
      },
      "source": [
        "phan = pd.DataFrame(train.groupby(\"PH\").mean()[\"FF\"])\n",
        "fig, axbo = plt.subplots(1, 1, figsize=(7, 4))\n",
        "sns.barplot(x=phan.index, y=\"FF\", data=phan, color=\"blue\", ax=axbo)\n",
        "axbo.set_xticklabels(phticks)\n",
        "axbo.title.set_text(\"Fuel consumption\")\n",
        "plt.show()"
      ],
      "execution_count": 16,
      "outputs": [
        {
          "output_type": "display_data",
          "data": {
            "image/png": "[encoded data removed]",
            "text/plain": [
              "<Figure size 504x288 with 1 Axes>"
            ]
          },
          "metadata": {
            "tags": []
          }
        }
      ]
    },
    {
      "cell_type": "markdown",
      "metadata": {
        "colab_type": "text",
        "id": "qiySgGtBfdCj"
      },
      "source": [
        "More about phases: https://www.fp7-restarts.eu/index.php/home/root/state-of-the-art/objectives/2012-02-15-11-58-37/71-book-video/parti-principles-of-flight/126-4-phases-of-a-flight.html"
      ]
    },
    {
      "cell_type": "markdown",
      "metadata": {
        "colab_type": "text",
        "id": "T8gNbHnwcYue"
      },
      "source": [
        "# First model"
      ]
    },
    {
      "cell_type": "markdown",
      "metadata": {
        "colab_type": "text",
        "id": "VaHgRWsDso4v"
      },
      "source": [
        "Mask for training data subsample to train models faster:"
      ]
    },
    {
      "cell_type": "code",
      "metadata": {
        "colab_type": "code",
        "id": "NxlqXARthc4c",
        "colab": {}
      },
      "source": [
        "msks = 50000\n",
        "mask = np.concatenate([np.zeros(train_X.shape[0] - msks), np.ones(msks)]).astype(\"bool\")\n",
        "np.random.shuffle(mask)"
      ],
      "execution_count": 0,
      "outputs": []
    },
    {
      "cell_type": "markdown",
      "metadata": {
        "colab_type": "text",
        "id": "OWhD2yF0syFG"
      },
      "source": [
        "First model is calculating of MSE for mean of train set."
      ]
    },
    {
      "cell_type": "code",
      "metadata": {
        "colab_type": "code",
        "id": "oIMzh9g-tDk2",
        "outputId": "91563426-a05b-4e2d-863d-aae651e229d8",
        "colab": {
          "base_uri": "https://localhost:8080/",
          "height": 34
        }
      },
      "source": [
        "rmse(test_y, [train_y.mean()] * test_y.shape[0])"
      ],
      "execution_count": 18,
      "outputs": [
        {
          "output_type": "execute_result",
          "data": {
            "text/plain": [
              "2335.0480297067966"
            ]
          },
          "metadata": {
            "tags": []
          },
          "execution_count": 18
        }
      ]
    },
    {
      "cell_type": "markdown",
      "metadata": {
        "colab_type": "text",
        "id": "c8KFADuUtXRv"
      },
      "source": [
        "Second model is just RF with random hyper parameters"
      ]
    },
    {
      "cell_type": "code",
      "metadata": {
        "colab_type": "code",
        "id": "cuxYTP7OBeZ8",
        "outputId": "a9721933-9cb6-4ade-c260-70e887376d60",
        "colab": {
          "base_uri": "https://localhost:8080/",
          "height": 34
        }
      },
      "source": [
        "pre_mod = RandomForestRegressor(n_estimators=25, max_features=100)\n",
        "pre_mod.fit(train_X[mask].drop(columns=\"Flight_instance_ID\"), train_y[mask])\n",
        "rmse(test_y, pre_mod.predict(test_X.drop(columns=\"Flight_instance_ID\")))"
      ],
      "execution_count": 19,
      "outputs": [
        {
          "output_type": "execute_result",
          "data": {
            "text/plain": [
              "225.08287937188396"
            ]
          },
          "metadata": {
            "tags": []
          },
          "execution_count": 19
        }
      ]
    },
    {
      "cell_type": "markdown",
      "metadata": {
        "colab_type": "text",
        "id": "hqb4x-gkcc1D"
      },
      "source": [
        "# Important Features"
      ]
    },
    {
      "cell_type": "markdown",
      "metadata": {
        "colab_type": "text",
        "id": "VERZxXYKu5YB"
      },
      "source": [
        "This cell is about sellecting important features for models. To cover different types of dependencies I use 4 indicators (RF feature importance, Linear Regression feature importance, f-regression, high variance). Also how I mentioned earlier there is many duplicated features in this dataset. The idea is to firstly calculate feature importance for all features and then remove less important feature form each highly correlated group and then calculate importance again."
      ]
    },
    {
      "cell_type": "markdown",
      "metadata": {
        "colab_type": "text",
        "id": "SxAaAJoxxNnS"
      },
      "source": [
        "##RF feature importance"
      ]
    },
    {
      "cell_type": "code",
      "metadata": {
        "colab_type": "code",
        "id": "Wmd79b3ppifG",
        "outputId": "889698fb-b8ca-49a3-8cc5-aa7ee76af090",
        "colab": {
          "base_uri": "https://localhost:8080/",
          "height": 389
        }
      },
      "source": [
        "all_imp = feat_importance(\n",
        "    pre_mod.feature_importances_, train_X.drop(columns=\"Flight_instance_ID\"), True\n",
        ")"
      ],
      "execution_count": 20,
      "outputs": [
        {
          "output_type": "display_data",
          "data": {
            "image/png": "[encoded data removed]",
            "text/plain": [
              "<Figure size 720x432 with 1 Axes>"
            ]
          },
          "metadata": {
            "tags": []
          }
        }
      ]
    },
    {
      "cell_type": "markdown",
      "metadata": {
        "colab_type": "text",
        "id": "2vZISUg-ycqj"
      },
      "source": [
        "We can see many features that shows (Max, Min, Mean) of same varialbles"
      ]
    },
    {
      "cell_type": "code",
      "metadata": {
        "colab_type": "code",
        "id": "82HbuYGPjujN",
        "outputId": "adbce605-18f7-4086-e8ff-6a7918d7d048",
        "colab": {
          "base_uri": "https://localhost:8080/",
          "height": 389
        }
      },
      "source": [
        "rf_cleaned_X = featcorr.betterval(all_imp, train_X)\n",
        "cleaned_mod = RandomForestRegressor(n_estimators=25, min_samples_leaf=40)\n",
        "cleaned_mod.fit(rf_cleaned_X[mask], train_y[mask])\n",
        "rf_feat = feat_importance(cleaned_mod.feature_importances_, rf_cleaned_X, True)"
      ],
      "execution_count": 21,
      "outputs": [
        {
          "output_type": "display_data",
          "data": {
            "image/png": "[encoded data removed]",
            "text/plain": [
              "<Figure size 720x432 with 1 Axes>"
            ]
          },
          "metadata": {
            "tags": []
          }
        }
      ]
    },
    {
      "cell_type": "markdown",
      "metadata": {
        "colab_type": "text",
        "id": "nmz9hltK1LY9"
      },
      "source": [
        "Now many more unique features appears."
      ]
    },
    {
      "cell_type": "markdown",
      "metadata": {
        "colab_type": "text",
        "id": "mdZX4c3m1zEr"
      },
      "source": [
        "Also there is PDP for feature that RF shows that is the most important (LONG_Max):"
      ]
    },
    {
      "cell_type": "code",
      "metadata": {
        "colab_type": "code",
        "id": "xBbVfj5E6-eS",
        "outputId": "d25bd936-80d1-45a2-b87b-9c495670f440",
        "colab": {
          "base_uri": "https://localhost:8080/",
          "height": 664
        }
      },
      "source": [
        "plt.figure(figsize=[7, 4])\n",
        "pdp_goals = pdp.pdp_isolate(\n",
        "    model=cleaned_mod,\n",
        "    dataset=rf_cleaned_X,\n",
        "    model_features=rf_cleaned_X.columns,\n",
        "    feature=\"LONG_Max\",\n",
        ")\n",
        "pdp.pdp_plot(pdp_goals, \"LONG_Max\")\n",
        "plt.show()"
      ],
      "execution_count": 22,
      "outputs": [
        {
          "output_type": "display_data",
          "data": {
            "text/plain": [
              "<Figure size 504x288 with 0 Axes>"
            ]
          },
          "metadata": {
            "tags": []
          }
        },
        {
          "output_type": "stream",
          "text": [
            "findfont: Font family ['Arial'] not found. Falling back to DejaVu Sans.\n",
            "findfont: Font family ['Arial'] not found. Falling back to DejaVu Sans.\n",
            "findfont: Font family ['Arial'] not found. Falling back to DejaVu Sans.\n",
            "findfont: Font family ['Arial'] not found. Falling back to DejaVu Sans.\n"
          ],
          "name": "stderr"
        },
        {
          "output_type": "display_data",
          "data": {
            "image/png": "[encoded data removed]",
            "text/plain": [
              "<Figure size 1080x684 with 2 Axes>"
            ]
          },
          "metadata": {
            "tags": []
          }
        }
      ]
    },
    {
      "cell_type": "markdown",
      "metadata": {
        "colab_type": "text",
        "id": "p-zRdV-dxU2R"
      },
      "source": [
        "##Liner regression feature importance"
      ]
    },
    {
      "cell_type": "markdown",
      "metadata": {
        "colab_type": "text",
        "id": "sR-v_QAr6DOo"
      },
      "source": [
        "There features are scaled using Standart Scaler. Bar chart shows feature importance after duplicate remove."
      ]
    },
    {
      "cell_type": "code",
      "metadata": {
        "colab_type": "code",
        "id": "-kgNZno0c0yx",
        "outputId": "f9437187-f21d-4c10-e918-ae7cfeed0658",
        "colab": {
          "base_uri": "https://localhost:8080/",
          "height": 391
        }
      },
      "source": [
        "line_ppl = Pipeline(steps=[(\"reg\", StandardScaler()), (\"model\", LinearRegression())])\n",
        "line_ppl.fit(train_X.drop(columns=\"TCAS\"), train_y)\n",
        "\n",
        "line_imp = feat_importance(line_ppl[\"model\"].coef_, train_X.drop(columns=\"TCAS\"))\n",
        "line_cleaned_X = featcorr.betterval(line_imp, train_X.drop(columns=\"TCAS\"))\n",
        "line_ppl.fit(line_cleaned_X, train_y)\n",
        "line_feat = feat_importance(line_ppl[\"model\"].coef_, line_cleaned_X, True)"
      ],
      "execution_count": 23,
      "outputs": [
        {
          "output_type": "display_data",
          "data": {
            "image/png": "[encoded data removed]",
            "text/plain": [
              "<Figure size 720x432 with 1 Axes>"
            ]
          },
          "metadata": {
            "tags": []
          }
        }
      ]
    },
    {
      "cell_type": "markdown",
      "metadata": {
        "colab_type": "text",
        "id": "iZpYYh2O7Iao"
      },
      "source": [
        "Reg plot of most important feature:"
      ]
    },
    {
      "cell_type": "code",
      "metadata": {
        "colab_type": "code",
        "id": "AXC0BW17hg9u",
        "outputId": "d4177afd-9654-445e-a76b-906547db7f04",
        "colab": {
          "base_uri": "https://localhost:8080/",
          "height": 297
        }
      },
      "source": [
        "sns.regplot(x=\"PI_Mean\", y=\"FF\", data=train, line_kws={\"color\": \"red\"})"
      ],
      "execution_count": 24,
      "outputs": [
        {
          "output_type": "execute_result",
          "data": {
            "text/plain": [
              "<matplotlib.axes._subplots.AxesSubplot at 0x7ff03bb2da58>"
            ]
          },
          "metadata": {
            "tags": []
          },
          "execution_count": 24
        },
        {
          "output_type": "display_data",
          "data": {
            "image/png": "[encoded data removed]",
            "text/plain": [
              "<Figure size 432x288 with 1 Axes>"
            ]
          },
          "metadata": {
            "tags": []
          }
        }
      ]
    },
    {
      "cell_type": "markdown",
      "metadata": {
        "colab_type": "text",
        "id": "OMYAeu5ExcVR"
      },
      "source": [
        "##F-regression"
      ]
    },
    {
      "cell_type": "code",
      "metadata": {
        "colab_type": "code",
        "id": "XO2As-ABoBoA",
        "outputId": "be28e2ab-4351-4811-942b-875589d7c6fb",
        "colab": {
          "base_uri": "https://localhost:8080/",
          "height": 389
        }
      },
      "source": [
        "f_imp = feat_importance(f_regression(train_X, train_y)[0], train_X, False)\n",
        "f_cleaned_X = featcorr.betterval(f_imp, train_X)\n",
        "f_feat = feat_importance(f_regression(f_cleaned_X, train_y)[0], f_cleaned_X, True)"
      ],
      "execution_count": 25,
      "outputs": [
        {
          "output_type": "display_data",
          "data": {
            "image/png": "[encoded data removed]",
            "text/plain": [
              "<Figure size 720x432 with 1 Axes>"
            ]
          },
          "metadata": {
            "tags": []
          }
        }
      ]
    },
    {
      "cell_type": "markdown",
      "metadata": {
        "colab_type": "text",
        "id": "HZRBkAi1xtrR"
      },
      "source": [
        "##Variance"
      ]
    },
    {
      "cell_type": "code",
      "metadata": {
        "colab_type": "code",
        "id": "rHgJDuVpqEoX",
        "outputId": "ed199660-3e51-4bc8-e922-624d25e9f108",
        "colab": {
          "base_uri": "https://localhost:8080/",
          "height": 400
        }
      },
      "source": [
        "for_var = train_X.drop(columns=[\"Flight_instance_ID\", \"elapsed\"])\n",
        "var_imp = feat_importance(for_var.var().values, for_var)\n",
        "var_cleaned_X = featcorr.betterval(var_imp, for_var)\n",
        "var_feat = feat_importance(var_cleaned_X.var().values, var_cleaned_X, True)"
      ],
      "execution_count": 26,
      "outputs": [
        {
          "output_type": "display_data",
          "data": {
            "image/png": "[encoded data removed]",
            "text/plain": [
              "<Figure size 720x432 with 1 Axes>"
            ]
          },
          "metadata": {
            "tags": []
          }
        }
      ]
    },
    {
      "cell_type": "markdown",
      "metadata": {
        "colab_type": "text",
        "id": "gg3Op7tP8iFv"
      },
      "source": [
        "Scatter plot of features with high variance"
      ]
    },
    {
      "cell_type": "code",
      "metadata": {
        "colab_type": "code",
        "id": "5_vEMQu7pxXx",
        "outputId": "cd669fd2-9ed1-4df8-c592-ee44c8ed84be",
        "colab": {
          "base_uri": "https://localhost:8080/",
          "height": 279
        }
      },
      "source": [
        "fig, axve = plt.subplots(1, 2, figsize=(12, 4))\n",
        "sns.scatterplot(x=\"ILSF\", y=\"FF\", data=train, ax=axve[0])\n",
        "sns.scatterplot(x=\"DWPT\", y=\"FF\", data=train, ax=axve[1])\n",
        "plt.show()"
      ],
      "execution_count": 27,
      "outputs": [
        {
          "output_type": "display_data",
          "data": {
            "image/png": "[encoded data removed]",
            "text/plain": [
              "<Figure size 864x288 with 2 Axes>"
            ]
          },
          "metadata": {
            "tags": []
          }
        }
      ]
    },
    {
      "cell_type": "markdown",
      "metadata": {
        "colab_type": "text",
        "id": "9aJQ3w288qc_"
      },
      "source": [
        "We can see clear clusters of thouse features"
      ]
    },
    {
      "cell_type": "markdown",
      "metadata": {
        "colab_type": "text",
        "id": "hXOzg2fIxwib"
      },
      "source": [
        "##Final train set creation"
      ]
    },
    {
      "cell_type": "code",
      "metadata": {
        "colab_type": "code",
        "id": "FxRdzMIk0uPD",
        "colab": {}
      },
      "source": [
        "rf_col = rf_feat[:25].index.values\n",
        "line_col = line_feat[:10].index.values\n",
        "f_col = f_feat[:10].index.values\n",
        "var_col = var_feat[:5].index.values\n",
        "col_selec = np.unique(\n",
        "    np.concatenate(\n",
        "        (rf_col, line_col, f_col, var_col, [\"elapsed\", \"Flight_instance_ID\"])\n",
        "    )\n",
        ")\n",
        "trainimp_X = train_X[col_selec]"
      ],
      "execution_count": 0,
      "outputs": []
    },
    {
      "cell_type": "code",
      "metadata": {
        "colab_type": "code",
        "id": "TIwEN8UxWjVN",
        "colab": {}
      },
      "source": [
        "forsave = trainimp_X\n",
        "forsave[\"FF\"] = train_y\n",
        "forsave.reset_index().to_feather(\"Backup\")"
      ],
      "execution_count": 0,
      "outputs": []
    },
    {
      "cell_type": "markdown",
      "metadata": {
        "colab_type": "text",
        "id": "PiM7MVLkciDm"
      },
      "source": [
        "#Preprocessing "
      ]
    },
    {
      "cell_type": "code",
      "metadata": {
        "colab_type": "code",
        "id": "Zha_YSEI1F96",
        "colab": {}
      },
      "source": [
        "forsave = pd.read_feather(\"Backup\")\n",
        "trainimp_X = forsave.drop(columns=\"FF\")\n",
        "trainimp_X.set_index(\"index\", inplace=True)\n",
        "trainimp_X.index.name = \"\"\n",
        "train_y = forsave[\"FF\"]\n",
        "train_y.index = trainimp_X.index"
      ],
      "execution_count": 0,
      "outputs": []
    },
    {
      "cell_type": "markdown",
      "metadata": {
        "colab_type": "text",
        "id": "KFM_Cfym_NrB"
      },
      "source": [
        "First thing that I noticed is two columns that have high importance according to RF (LONG_Max, CAS_Max) have rows that are deffinetelly an outliers (orange on scatter plots)."
      ]
    },
    {
      "cell_type": "code",
      "metadata": {
        "colab_type": "code",
        "id": "yuPgOOJAchVP",
        "outputId": "6a64ebc9-4e4e-45c2-cbe0-5ab92fcff232",
        "colab": {
          "base_uri": "https://localhost:8080/",
          "height": 296
        }
      },
      "source": [
        "long_out = trainimp_X[\"LONG_Max\"] < -1\n",
        "cas_out = trainimp_X[\"CAS_Max\"] < 3\n",
        "fig, axve = plt.subplots(1, 2, figsize=(12, 4))\n",
        "axve[0].scatter(trainimp_X[~long_out][\"LONG_Max\"], train_y[~long_out])\n",
        "axve[0].scatter(trainimp_X[long_out][\"LONG_Max\"], train_y[long_out])\n",
        "axve[0].title.set_text(\"LONG_Max\")\n",
        "axve[0].set_xlabel(\"LONG_Max\")\n",
        "axve[0].set_ylabel(\"FF\")\n",
        "axve[1].scatter(trainimp_X[~cas_out][\"CAS_Max\"], train_y[~cas_out])\n",
        "axve[1].scatter(trainimp_X[cas_out][\"CAS_Max\"], train_y[cas_out])\n",
        "axve[1].title.set_text(\"CAS_Max\")\n",
        "axve[1].set_xlabel(\"CAS_Max\")\n",
        "axve[1].set_ylabel(\"FF\")\n",
        "axve[1].set_xlim(-20, 350)\n",
        "plt.show()"
      ],
      "execution_count": 31,
      "outputs": [
        {
          "output_type": "display_data",
          "data": {
            "image/png": "[encoded data removed]",
            "text/plain": [
              "<Figure size 864x288 with 2 Axes>"
            ]
          },
          "metadata": {
            "tags": []
          }
        }
      ]
    },
    {
      "cell_type": "markdown",
      "metadata": {
        "colab_type": "text",
        "id": "P2doWXr1Ccqr"
      },
      "source": [
        "There is features with less than 15 unique values"
      ]
    },
    {
      "cell_type": "code",
      "metadata": {
        "colab_type": "code",
        "id": "e4j0eAcgCnf6",
        "colab": {}
      },
      "source": [
        "unval = trainimp_X.nunique()\n",
        "unval = unval[unval < 15].index"
      ],
      "execution_count": 0,
      "outputs": []
    },
    {
      "cell_type": "markdown",
      "metadata": {
        "colab_type": "text",
        "id": "JhLv9cDmFT51"
      },
      "source": [
        "<div>Pipeline for preprocessing.</div>\n",
        "<div>Encoder:</div>\n",
        "<div>MintoMean - used for columns with outliers mentioned earlier. Replaces Min value with Mean and creates column with indicators of replced values.</div>\n",
        "<div>FlightPart - calculte 3 values: duration of a flight, time after begining and value from 0 to 1 that shows already flown part.</div>\n",
        "<div>ClustTarg - allows cluster data using K-means algoritm and encode as categorical feature</div>\n"
      ]
    },
    {
      "cell_type": "code",
      "metadata": {
        "colab_type": "code",
        "id": "7OIQDpIBMmzm",
        "colab": {}
      },
      "source": [
        "unval = [\"OIPL\", \"PH\", \"TMODE\", \"VMODE\"]\n",
        "others = compr(\n",
        "    trainimp_X.columns, [\"elapsed\", \"Flight_instance_ID\", \"LONG_Max\", \"CAS_Max\"]\n",
        ")\n",
        "ct = ColumnTransformer(\n",
        "    transformers=[\n",
        "        (\"simdt\", MintoMean(0.01), [\"LONG_Max\", \"CAS_Max\"]),\n",
        "        (\n",
        "            \"flighper\",\n",
        "            FlightPart(\"elapsed\", \"Flight_instance_ID\"),\n",
        "            [\"elapsed\", \"Flight_instance_ID\"],\n",
        "        ),\n",
        "        (\"nother\", DoNothing(), others),\n",
        "    ],\n",
        "    remainder=\"drop\",\n",
        ")\n",
        "ppl = Pipeline(steps=[(\"main\", ct)])"
      ],
      "execution_count": 0,
      "outputs": []
    },
    {
      "cell_type": "code",
      "metadata": {
        "colab_type": "code",
        "id": "vbD05-qaAhli",
        "outputId": "36749c66-dd85-4599-c6ab-47175cace69b",
        "colab": {
          "base_uri": "https://localhost:8080/",
          "height": 176
        }
      },
      "source": [
        "train_fin_X = ppl_to_df(ppl, \"main\", trainimp_X, train_y)\n",
        "train_fin_X.head(3)"
      ],
      "execution_count": 34,
      "outputs": [
        {
          "output_type": "execute_result",
          "data": {
            "text/html": [
              "<div>\n",
              "<style scoped>\n",
              "    .dataframe tbody tr th:only-of-type {\n",
              "        vertical-align: middle;\n",
              "    }\n",
              "\n",
              "    .dataframe tbody tr th {\n",
              "        vertical-align: top;\n",
              "    }\n",
              "\n",
              "    .dataframe thead th {\n",
              "        text-align: right;\n",
              "    }\n",
              "</style>\n",
              "<table border=\"1\" class=\"dataframe\">\n",
              "  <thead>\n",
              "    <tr style=\"text-align: right;\">\n",
              "      <th></th>\n",
              "      <th>LONG_Max</th>\n",
              "      <th>CAS_Max</th>\n",
              "      <th>LONG_Max_out</th>\n",
              "      <th>CAS_Max_out</th>\n",
              "      <th>elapsed</th>\n",
              "      <th>from_beg</th>\n",
              "      <th>duration</th>\n",
              "      <th>part</th>\n",
              "      <th>ALTR_Max</th>\n",
              "      <th>ALTS</th>\n",
              "      <th>ALT_Min</th>\n",
              "      <th>AOA1_Max</th>\n",
              "      <th>AOAC_Mean</th>\n",
              "      <th>AOAC_Min</th>\n",
              "      <th>AOAI_Max</th>\n",
              "      <th>BLV</th>\n",
              "      <th>BPYR_1</th>\n",
              "      <th>CASM_Max</th>\n",
              "      <th>DWPT</th>\n",
              "      <th>EAI</th>\n",
              "      <th>FGC3</th>\n",
              "      <th>FLAP</th>\n",
              "      <th>FPAC_Max</th>\n",
              "      <th>FPAC_Mean</th>\n",
              "      <th>FQTY_1</th>\n",
              "      <th>FQTY_4</th>\n",
              "      <th>ILSF</th>\n",
              "      <th>IVV_Max</th>\n",
              "      <th>IVV_Min</th>\n",
              "      <th>LATP</th>\n",
              "      <th>LONG_Min</th>\n",
              "      <th>MSQT_2_Mean</th>\n",
              "      <th>N1T_Max</th>\n",
              "      <th>NSQT_Max</th>\n",
              "      <th>NSQT_Mean</th>\n",
              "      <th>OIPL</th>\n",
              "      <th>PH</th>\n",
              "      <th>PI_Max</th>\n",
              "      <th>PI_Mean</th>\n",
              "      <th>PS_Mean</th>\n",
              "      <th>RALT_Min</th>\n",
              "      <th>TAT</th>\n",
              "      <th>TMODE</th>\n",
              "      <th>VIB_1_Max</th>\n",
              "      <th>VMODE</th>\n",
              "      <th>VSPS</th>\n",
              "      <th>WS_Min</th>\n",
              "    </tr>\n",
              "    <tr>\n",
              "      <th></th>\n",
              "      <th></th>\n",
              "      <th></th>\n",
              "      <th></th>\n",
              "      <th></th>\n",
              "      <th></th>\n",
              "      <th></th>\n",
              "      <th></th>\n",
              "      <th></th>\n",
              "      <th></th>\n",
              "      <th></th>\n",
              "      <th></th>\n",
              "      <th></th>\n",
              "      <th></th>\n",
              "      <th></th>\n",
              "      <th></th>\n",
              "      <th></th>\n",
              "      <th></th>\n",
              "      <th></th>\n",
              "      <th></th>\n",
              "      <th></th>\n",
              "      <th></th>\n",
              "      <th></th>\n",
              "      <th></th>\n",
              "      <th></th>\n",
              "      <th></th>\n",
              "      <th></th>\n",
              "      <th></th>\n",
              "      <th></th>\n",
              "      <th></th>\n",
              "      <th></th>\n",
              "      <th></th>\n",
              "      <th></th>\n",
              "      <th></th>\n",
              "      <th></th>\n",
              "      <th></th>\n",
              "      <th></th>\n",
              "      <th></th>\n",
              "      <th></th>\n",
              "      <th></th>\n",
              "      <th></th>\n",
              "      <th></th>\n",
              "      <th></th>\n",
              "      <th></th>\n",
              "      <th></th>\n",
              "      <th></th>\n",
              "      <th></th>\n",
              "      <th></th>\n",
              "    </tr>\n",
              "  </thead>\n",
              "  <tbody>\n",
              "    <tr>\n",
              "      <th>656709</th>\n",
              "      <td>-0.000752</td>\n",
              "      <td>255.786097</td>\n",
              "      <td>0.0</td>\n",
              "      <td>1.0</td>\n",
              "      <td>1.066974e+09</td>\n",
              "      <td>0.0</td>\n",
              "      <td>7375.0</td>\n",
              "      <td>0.000000</td>\n",
              "      <td>16.0</td>\n",
              "      <td>5000.0</td>\n",
              "      <td>707.0</td>\n",
              "      <td>-0.087890</td>\n",
              "      <td>0.0</td>\n",
              "      <td>0.0</td>\n",
              "      <td>-2.241195</td>\n",
              "      <td>0.0</td>\n",
              "      <td>43.945423</td>\n",
              "      <td>300.0</td>\n",
              "      <td>131164.0</td>\n",
              "      <td>0.0</td>\n",
              "      <td>120.0</td>\n",
              "      <td>94.0</td>\n",
              "      <td>0.0</td>\n",
              "      <td>0.0</td>\n",
              "      <td>8168.0</td>\n",
              "      <td>8072.0</td>\n",
              "      <td>2303077.0</td>\n",
              "      <td>1.0</td>\n",
              "      <td>0.0</td>\n",
              "      <td>41.303789</td>\n",
              "      <td>-0.004816</td>\n",
              "      <td>0.0</td>\n",
              "      <td>84.28125</td>\n",
              "      <td>0.0</td>\n",
              "      <td>0.0</td>\n",
              "      <td>0.0</td>\n",
              "      <td>1.0</td>\n",
              "      <td>0.06250</td>\n",
              "      <td>0.062500</td>\n",
              "      <td>29.176151</td>\n",
              "      <td>-0.625</td>\n",
              "      <td>-1.5</td>\n",
              "      <td>2.0</td>\n",
              "      <td>0.0</td>\n",
              "      <td>11.0</td>\n",
              "      <td>0.0</td>\n",
              "      <td>0.0</td>\n",
              "    </tr>\n",
              "    <tr>\n",
              "      <th>656714</th>\n",
              "      <td>-0.009388</td>\n",
              "      <td>255.786097</td>\n",
              "      <td>0.0</td>\n",
              "      <td>1.0</td>\n",
              "      <td>1.066974e+09</td>\n",
              "      <td>5.0</td>\n",
              "      <td>7375.0</td>\n",
              "      <td>0.000678</td>\n",
              "      <td>0.0</td>\n",
              "      <td>5000.0</td>\n",
              "      <td>707.0</td>\n",
              "      <td>-0.087890</td>\n",
              "      <td>0.0</td>\n",
              "      <td>0.0</td>\n",
              "      <td>-2.241195</td>\n",
              "      <td>0.0</td>\n",
              "      <td>48.828247</td>\n",
              "      <td>300.0</td>\n",
              "      <td>131164.0</td>\n",
              "      <td>0.0</td>\n",
              "      <td>120.0</td>\n",
              "      <td>95.0</td>\n",
              "      <td>0.0</td>\n",
              "      <td>0.0</td>\n",
              "      <td>8168.0</td>\n",
              "      <td>8072.0</td>\n",
              "      <td>2303077.0</td>\n",
              "      <td>0.0</td>\n",
              "      <td>0.0</td>\n",
              "      <td>41.303789</td>\n",
              "      <td>-0.009896</td>\n",
              "      <td>0.0</td>\n",
              "      <td>84.28125</td>\n",
              "      <td>0.0</td>\n",
              "      <td>0.0</td>\n",
              "      <td>0.0</td>\n",
              "      <td>1.0</td>\n",
              "      <td>0.09375</td>\n",
              "      <td>0.078125</td>\n",
              "      <td>29.176151</td>\n",
              "      <td>-0.625</td>\n",
              "      <td>-1.5</td>\n",
              "      <td>2.0</td>\n",
              "      <td>0.0</td>\n",
              "      <td>11.0</td>\n",
              "      <td>0.0</td>\n",
              "      <td>0.0</td>\n",
              "    </tr>\n",
              "    <tr>\n",
              "      <th>656715</th>\n",
              "      <td>-0.009388</td>\n",
              "      <td>255.786097</td>\n",
              "      <td>0.0</td>\n",
              "      <td>1.0</td>\n",
              "      <td>1.066974e+09</td>\n",
              "      <td>6.0</td>\n",
              "      <td>7375.0</td>\n",
              "      <td>0.000814</td>\n",
              "      <td>16.0</td>\n",
              "      <td>5000.0</td>\n",
              "      <td>708.0</td>\n",
              "      <td>-0.131835</td>\n",
              "      <td>0.0</td>\n",
              "      <td>0.0</td>\n",
              "      <td>-2.241195</td>\n",
              "      <td>0.0</td>\n",
              "      <td>43.945423</td>\n",
              "      <td>300.0</td>\n",
              "      <td>131164.0</td>\n",
              "      <td>0.0</td>\n",
              "      <td>120.0</td>\n",
              "      <td>95.0</td>\n",
              "      <td>0.0</td>\n",
              "      <td>0.0</td>\n",
              "      <td>8168.0</td>\n",
              "      <td>8072.0</td>\n",
              "      <td>2303077.0</td>\n",
              "      <td>0.0</td>\n",
              "      <td>0.0</td>\n",
              "      <td>41.303789</td>\n",
              "      <td>-0.010404</td>\n",
              "      <td>0.0</td>\n",
              "      <td>84.28125</td>\n",
              "      <td>0.0</td>\n",
              "      <td>0.0</td>\n",
              "      <td>0.0</td>\n",
              "      <td>1.0</td>\n",
              "      <td>0.09375</td>\n",
              "      <td>0.062500</td>\n",
              "      <td>29.176151</td>\n",
              "      <td>-0.625</td>\n",
              "      <td>-1.5</td>\n",
              "      <td>2.0</td>\n",
              "      <td>0.0</td>\n",
              "      <td>11.0</td>\n",
              "      <td>0.0</td>\n",
              "      <td>0.0</td>\n",
              "    </tr>\n",
              "  </tbody>\n",
              "</table>\n",
              "</div>"
            ],
            "text/plain": [
              "        LONG_Max     CAS_Max  LONG_Max_out  ...  VMODE  VSPS  WS_Min\n",
              "                                            ...                     \n",
              "656709 -0.000752  255.786097           0.0  ...   11.0   0.0     0.0\n",
              "656714 -0.009388  255.786097           0.0  ...   11.0   0.0     0.0\n",
              "656715 -0.009388  255.786097           0.0  ...   11.0   0.0     0.0\n",
              "\n",
              "[3 rows x 47 columns]"
            ]
          },
          "metadata": {
            "tags": []
          },
          "execution_count": 34
        }
      ]
    },
    {
      "cell_type": "markdown",
      "metadata": {
        "colab_type": "text",
        "id": "a5CnkaigPmYi"
      },
      "source": [
        "## More about consumption during a flight"
      ]
    },
    {
      "cell_type": "code",
      "metadata": {
        "colab_type": "code",
        "id": "KdmFTJDYHTkk",
        "outputId": "d887c0ef-f32c-43a8-d70a-4b034f2664cf",
        "colab": {
          "base_uri": "https://localhost:8080/",
          "height": 404
        }
      },
      "source": [
        "colors = {1: \"r\", 2: \"g\", 4: \"y\", 5: \"c\", 6: \"k\", 7: \"m\"}\n",
        "fins = FFpart(train_fin_X, train_y, 1 / 150, colors)\n",
        "fig, axpa = plt.subplots(1, 1, figsize=(16, 6))\n",
        "prev = fins.iloc[0]\n",
        "counter = 0\n",
        "for key, val in fins.iloc[1:].iterrows():\n",
        "    axpa.plot(\n",
        "        [prev[\"part\"], val[\"part\"]], [prev[\"cons\"], val[\"cons\"]], color=val[\"type\"]\n",
        "    )\n",
        "    axpa.fill_between(\n",
        "        [prev[\"part\"], val[\"part\"]],\n",
        "        [prev[\"cons\"], val[\"cons\"]],\n",
        "        color=val[\"type\"],\n",
        "        alpha=0.3,\n",
        "    )\n",
        "    prev = val\n",
        "\n",
        "axpa.title.set_text(\"FF during flight\")\n",
        "axpa.set_xlabel(\"Finished flight part\")\n",
        "axpa.set_ylabel(\"FF\")\n",
        "\n",
        "custom_lines = [(Line2D([0], [0], color=col[1], lw=4)) for col in colors.items()][1:-1]\n",
        "plt.legend(custom_lines, [\"Taxi\", \"Climb\", \"Cruise\", \"Approuch\"])\n",
        "plt.show()"
      ],
      "execution_count": 35,
      "outputs": [
        {
          "output_type": "display_data",
          "data": {
            "image/png": "[encoded data removed]",
            "text/plain": [
              "<Figure size 1152x432 with 1 Axes>"
            ]
          },
          "metadata": {
            "tags": []
          }
        }
      ]
    },
    {
      "cell_type": "markdown",
      "metadata": {
        "colab_type": "text",
        "id": "hAZbga4lV2DW"
      },
      "source": [
        "\n",
        "\n",
        "*   We can see from graph that plane during climb through dense layers of air consumes most of fule.\n",
        "*   And later during the flight plane becomes lighter and consumes less fuel. \n"
      ]
    },
    {
      "cell_type": "markdown",
      "metadata": {
        "colab_type": "text",
        "id": "YYDPekVdSwp9"
      },
      "source": [
        "<div>There is also 3 stages of flight (Preflight, Rollout, Takeoff) that are not represented in the graph because they are too short to be shown with this graph approximation level.</div>\n",
        "<div>First Taxi stage may be a little bit larger because of the same reason (Takeoff stage is between it and climb) </div>"
      ]
    },
    {
      "cell_type": "code",
      "metadata": {
        "colab_type": "code",
        "id": "ufaFnQvgZxPX",
        "outputId": "47840de5-3211-4e34-8c76-0756fa66c6ca",
        "colab": {
          "base_uri": "https://localhost:8080/",
          "height": 431
        }
      },
      "source": [
        "forplot = train_fin_X\n",
        "forplot[\"FF\"] = train_y\n",
        "fig, axta = plt.subplots(1, 1, figsize=(5, 7))\n",
        "lgmask = np.logical_and(forplot[\"PH\"] == 2, forplot[\"part\"] < 0.5)\n",
        "sns.boxplot(forplot[lgmask][\"FF\"], orient=\"v\", showfliers=False, color=\"g\", ax=axta)\n",
        "axta.title.set_text(\"First Taxi phase\")\n",
        "plt.show()"
      ],
      "execution_count": 36,
      "outputs": [
        {
          "output_type": "display_data",
          "data": {
            "image/png": "[encoded data removed]",
            "text/plain": [
              "<Figure size 360x504 with 1 Axes>"
            ]
          },
          "metadata": {
            "tags": []
          }
        }
      ]
    },
    {
      "cell_type": "markdown",
      "metadata": {
        "colab_type": "text",
        "id": "N8R4P70OAveO"
      },
      "source": [
        "# Model and hyper parameter selection"
      ]
    },
    {
      "cell_type": "code",
      "metadata": {
        "colab_type": "code",
        "id": "pIzuloSwCRF_",
        "colab": {}
      },
      "source": [
        "msks = 30000\n",
        "mask = np.concatenate([np.zeros(train_fin_X.shape[0] - msks), np.ones(msks)]).astype(\n",
        "    \"bool\"\n",
        ")\n",
        "np.random.shuffle(mask)"
      ],
      "execution_count": 0,
      "outputs": []
    },
    {
      "cell_type": "code",
      "metadata": {
        "colab_type": "code",
        "id": "ThFpXZUkNG0z",
        "colab": {}
      },
      "source": [
        "ppltr = Pipeline(steps=[(\"target\", TargetEncoder(cols=unval)), (\"main\", ct)])\n",
        "train_fin_X = ppl_to_df(ppltr, \"main\", train_X, train_y)"
      ],
      "execution_count": 0,
      "outputs": []
    },
    {
      "cell_type": "markdown",
      "metadata": {
        "colab_type": "text",
        "id": "ONRaQlxEaX7f"
      },
      "source": [
        "## Hyper parameters for grid search\n"
      ]
    },
    {
      "cell_type": "code",
      "metadata": {
        "colab_type": "code",
        "id": "tj-aZaUCT-zH",
        "colab": {}
      },
      "source": [
        "xg_grid = [\n",
        "    {\"max_depth\": [7, 8, 9], \"min_child_weight\": [1, 3, 6]},\n",
        "    {\"gamma\": [i / 10.0 for i in range(0, 3)]},\n",
        "    {\"subsample\": [0.2, 0.5, 0.8], \"colsample_bytree\": [0.1, 0.6, 0.9]},\n",
        "    {\"reg_alpha\": [1e-5, 1e-2, 0.1, 1, 100]},\n",
        "]"
      ],
      "execution_count": 0,
      "outputs": []
    },
    {
      "cell_type": "code",
      "metadata": {
        "colab_type": "code",
        "id": "IG5ry3bWwWKI",
        "colab": {}
      },
      "source": [
        "gradient_grid = [\n",
        "    {\"max_depth\": [3, 8, 12]},\n",
        "    {\"max_features\": [5, 23, 36, 70]},\n",
        "    {\"n_estimators\": [100, 200, 400], \"learning_rate\": [0.03, 0.1, 0.5, 1]},\n",
        "    {\"loss\": [\"ls\", \"lad\", \"huber\", \"quantile\"]},\n",
        "]"
      ],
      "execution_count": 0,
      "outputs": []
    },
    {
      "cell_type": "code",
      "metadata": {
        "colab_type": "code",
        "id": "vXGLtqr17wqD",
        "colab": {}
      },
      "source": [
        "ada_grid = [\n",
        "    {\"base_estimator\": [DecisionTreeRegressor(max_depth=i) for i in [3, 5, 8, 10]]},\n",
        "    {\"n_estimators\": [50, 100, 200, 350], \"learning_rate\": [1, 0.5, 0.1]},\n",
        "]"
      ],
      "execution_count": 0,
      "outputs": []
    },
    {
      "cell_type": "code",
      "metadata": {
        "colab_type": "code",
        "id": "-jUBStOhXEtt",
        "colab": {}
      },
      "source": [
        "rf_grid = [\n",
        "    {\"min_samples_leaf\": [1, 5, 10]},\n",
        "    {\"min_samples_split\": [1, 5, 10, 20]},\n",
        "    {\"max_features\": [\"auto\", 0.2, 0.4, 0.6]},\n",
        "    {\"bootstrap\": [True, False]},\n",
        "]"
      ],
      "execution_count": 0,
      "outputs": []
    },
    {
      "cell_type": "markdown",
      "metadata": {
        "colab_type": "text",
        "id": "aTvttCu7cjpc"
      },
      "source": [
        "## Grid search"
      ]
    },
    {
      "cell_type": "code",
      "metadata": {
        "colab_type": "code",
        "id": "LqVY6LM_U1sO",
        "outputId": "e58bdf19-5e27-4496-8f84-a09854ef1807",
        "colab": {
          "base_uri": "https://localhost:8080/",
          "height": 124
        }
      },
      "source": [
        "xg_test = XGBRegressor(n_estimators=50)\n",
        "search_by_line(xg_test, xg_grid, train_fin_X[mask], train_y[mask])"
      ],
      "execution_count": 0,
      "outputs": [
        {
          "output_type": "stream",
          "text": [
            "[23:15:42] WARNING: /workspace/src/objective/regression_obj.cu:152: reg:linear is now deprecated in favor of reg:squarederror.\n",
            "[23:16:17] WARNING: /workspace/src/objective/regression_obj.cu:152: reg:linear is now deprecated in favor of reg:squarederror.\n",
            "[23:17:12] WARNING: /workspace/src/objective/regression_obj.cu:152: reg:linear is now deprecated in favor of reg:squarederror.\n",
            "[23:17:51] WARNING: /workspace/src/objective/regression_obj.cu:152: reg:linear is now deprecated in favor of reg:squarederror.\n",
            "{'max_depth': 7, 'min_child_weight': 6, 'gamma': 0.0, 'colsample_bytree': 0.6, 'subsample': 0.8, 'reg_alpha': 1e-05}\n"
          ],
          "name": "stdout"
        }
      ]
    },
    {
      "cell_type": "code",
      "metadata": {
        "colab_type": "code",
        "id": "rTSWsaUbx_jY",
        "outputId": "25eb9634-4d8a-4e01-a97c-8f5145cc9fa5",
        "colab": {
          "base_uri": "https://localhost:8080/",
          "height": 35
        }
      },
      "source": [
        "gb_test = GradientBoostingRegressor()\n",
        "search_by_line(gb_test, gradient_grid, train_fin_X[mask], train_y[mask])"
      ],
      "execution_count": 0,
      "outputs": [
        {
          "output_type": "stream",
          "text": [
            "{'max_depth': 8, 'max_features': 23, 'learning_rate': 0.03, 'n_estimators': 400, 'loss': 'huber'}\n"
          ],
          "name": "stdout"
        }
      ]
    },
    {
      "cell_type": "code",
      "metadata": {
        "colab_type": "code",
        "id": "IMfJI4Z89HCq",
        "outputId": "6f1597cd-ccd3-4583-97ce-5a420125c0b6",
        "colab": {
          "base_uri": "https://localhost:8080/",
          "height": 121
        }
      },
      "source": [
        "adatree_test = AdaBoostRegressor(\n",
        "    base_estimator=DecisionTreeRegressor(max_depth=12), learning_rate=1\n",
        ")\n",
        "search_by_line(adatree_test, ada_grid, train_fin_X[mask], train_y[mask])"
      ],
      "execution_count": 0,
      "outputs": [
        {
          "output_type": "stream",
          "text": [
            "{'base_estimator': DecisionTreeRegressor(ccp_alpha=0.0, criterion='mse', max_depth=10,\n",
            "                      max_features=None, max_leaf_nodes=None,\n",
            "                      min_impurity_decrease=0.0, min_impurity_split=None,\n",
            "                      min_samples_leaf=1, min_samples_split=2,\n",
            "                      min_weight_fraction_leaf=0.0, presort='deprecated',\n",
            "                      random_state=None, splitter='best'), 'learning_rate': 1, 'n_estimators': 50}\n"
          ],
          "name": "stdout"
        }
      ]
    },
    {
      "cell_type": "code",
      "metadata": {
        "colab_type": "code",
        "id": "aW5PBkqV8U3K",
        "outputId": "ebb90f5c-71a7-4c70-86ec-0eaada122e19",
        "colab": {
          "base_uri": "https://localhost:8080/",
          "height": 104
        }
      },
      "source": [
        "rf_test = RandomForestRegressor(n_estimators=20)\n",
        "search_by_line(rf_test, rf_grid, train_fin_X[mask], train_y[mask], True)"
      ],
      "execution_count": 0,
      "outputs": [
        {
          "output_type": "stream",
          "text": [
            "{'min_samples_leaf': 1}\n",
            "{'min_samples_split': 5}\n",
            "{'max_features': 0.2}\n",
            "{'bootstrap': False}\n",
            "{'min_samples_leaf': 1, 'min_samples_split': 5, 'max_features': 0.2, 'bootstrap': False}\n"
          ],
          "name": "stdout"
        }
      ]
    },
    {
      "cell_type": "markdown",
      "metadata": {
        "colab_type": "text",
        "id": "FTT6MJPTdfYT"
      },
      "source": [
        "## Results with test set"
      ]
    },
    {
      "cell_type": "code",
      "metadata": {
        "colab_type": "code",
        "id": "gR6taLUifYMr",
        "colab": {}
      },
      "source": [
        "test_fin = ppl_to_df(ppltr, \"main\", test_X, test_y, False)"
      ],
      "execution_count": 0,
      "outputs": []
    },
    {
      "cell_type": "markdown",
      "metadata": {
        "colab_type": "text",
        "id": "H4uim29td-IS"
      },
      "source": [
        "### Random forest"
      ]
    },
    {
      "cell_type": "code",
      "metadata": {
        "colab_type": "code",
        "id": "SNUqm2dcd6uy",
        "outputId": "431f72af-5ebf-4fe4-824e-cbb4b4c41106",
        "colab": {
          "base_uri": "https://localhost:8080/",
          "height": 35
        }
      },
      "source": [
        "rf_mod = RandomForestRegressor(\n",
        "    n_estimators=50,\n",
        "    min_samples_leaf=1,\n",
        "    min_samples_split=5,\n",
        "    max_features=0.4,\n",
        "    bootstrap=False,\n",
        ")\n",
        "rf_mod.fit(train_fin_X[mask], train_y[mask])\n",
        "rmse(test_y, rf_mod.predict(test_fin))"
      ],
      "execution_count": 0,
      "outputs": [
        {
          "output_type": "execute_result",
          "data": {
            "text/plain": [
              "222.70635875477282"
            ]
          },
          "metadata": {
            "tags": []
          },
          "execution_count": 56
        }
      ]
    },
    {
      "cell_type": "markdown",
      "metadata": {
        "colab_type": "text",
        "id": "9AxbAIUMeIvK"
      },
      "source": [
        "### AdaBoost"
      ]
    },
    {
      "cell_type": "code",
      "metadata": {
        "colab_type": "code",
        "id": "YPtzdfAVeVYr",
        "outputId": "9b0530c0-717e-428c-b53e-b2c1db58c70f",
        "colab": {
          "base_uri": "https://localhost:8080/",
          "height": 35
        }
      },
      "source": [
        "ada_mod = AdaBoostRegressor(\n",
        "    n_estimators=200, base_estimator=DecisionTreeRegressor(max_depth=12)\n",
        ")\n",
        "ada_mod.fit(train_fin_X[mask], train_y[mask])\n",
        "rmse(test_y, ada_mod.predict(test_fin))"
      ],
      "execution_count": 0,
      "outputs": [
        {
          "output_type": "execute_result",
          "data": {
            "text/plain": [
              "235.85020862047293"
            ]
          },
          "metadata": {
            "tags": []
          },
          "execution_count": 57
        }
      ]
    },
    {
      "cell_type": "markdown",
      "metadata": {
        "colab_type": "text",
        "id": "pB2Uk1dOepMK"
      },
      "source": [
        "### Gradient Boost"
      ]
    },
    {
      "cell_type": "code",
      "metadata": {
        "colab_type": "code",
        "id": "-ObTEX1HfB9p",
        "outputId": "2e8af1e9-192c-4470-aca3-c010533c9aba",
        "colab": {
          "base_uri": "https://localhost:8080/",
          "height": 35
        }
      },
      "source": [
        "gb_mod = GradientBoostingRegressor(\n",
        "    max_depth=8, max_features=23, learning_rate=0.03, n_estimators=400, loss=\"ls\"\n",
        ")\n",
        "gb_mod.fit(train_fin_X[mask], train_y[mask])\n",
        "rmse(test_y, gb_mod.predict(test_fin))"
      ],
      "execution_count": 0,
      "outputs": [
        {
          "output_type": "execute_result",
          "data": {
            "text/plain": [
              "208.00102685888174"
            ]
          },
          "metadata": {
            "tags": []
          },
          "execution_count": 58
        }
      ]
    },
    {
      "cell_type": "markdown",
      "metadata": {
        "colab_type": "text",
        "id": "rlH5Yv7Fd2AJ"
      },
      "source": [
        "### XGBoost"
      ]
    },
    {
      "cell_type": "code",
      "metadata": {
        "colab_type": "code",
        "id": "FALnG5AfdkTS",
        "outputId": "83b2e614-06d5-4cf7-c01c-c5724ed09915",
        "colab": {
          "base_uri": "https://localhost:8080/",
          "height": 51
        }
      },
      "source": [
        "xg_reg = XGBRegressor(\n",
        "    n_estimators=5000,\n",
        "    max_depth=8,\n",
        "    min_child_weight=3,\n",
        "    gamma=0,\n",
        "    colsample_bytree=0.6,\n",
        "    subsample=0.8,\n",
        "    reg_alpha=1,\n",
        "    learning_rate=0.03,\n",
        ")\n",
        "xg_reg.fit(\n",
        "    train_fin_X[mask],\n",
        "    train_y[mask],\n",
        "    early_stopping_rounds=5,\n",
        "    eval_set=[(test_fin, test_y)],\n",
        "    verbose=False,\n",
        ")\n",
        "rmse(test_y, xg_reg.predict(test_fin))"
      ],
      "execution_count": 56,
      "outputs": [
        {
          "output_type": "stream",
          "text": [
            "[10:06:18] WARNING: /workspace/src/objective/regression_obj.cu:152: reg:linear is now deprecated in favor of reg:squarederror.\n"
          ],
          "name": "stdout"
        },
        {
          "output_type": "execute_result",
          "data": {
            "text/plain": [
              "207.2239298587225"
            ]
          },
          "metadata": {
            "tags": []
          },
          "execution_count": 56
        }
      ]
    },
    {
      "cell_type": "code",
      "metadata": {
        "colab_type": "code",
        "id": "tyVdXSDbqP9d",
        "outputId": "5b70faa3-db39-46c8-f4e6-431dd1b26788",
        "colab": {
          "base_uri": "https://localhost:8080/",
          "height": 34
        }
      },
      "source": [
        "xg_reg.best_iteration"
      ],
      "execution_count": 57,
      "outputs": [
        {
          "output_type": "execute_result",
          "data": {
            "text/plain": [
              "465"
            ]
          },
          "metadata": {
            "tags": []
          },
          "execution_count": 57
        }
      ]
    },
    {
      "cell_type": "markdown",
      "metadata": {
        "colab_type": "text",
        "id": "hmvzA3R4FnMM"
      },
      "source": [
        "# Final model"
      ]
    },
    {
      "cell_type": "code",
      "metadata": {
        "colab_type": "code",
        "id": "gy4AEEIYH77L",
        "colab": {}
      },
      "source": [
        "traincnc_X = pd.concat([trainimp_X, test_X[trainimp_X.columns]], ignore_index=True)\n",
        "taincnc_y = pd.concat([train_y, test_y], ignore_index=True)\n",
        "train_cnX = ppl_to_df(ppltr, \"main\", traincnc_X, taincnc_y)\n",
        "val_fin = ppl_to_df(ppltr, \"main\", val_X[traincnc_X.columns], train_y, False)"
      ],
      "execution_count": 0,
      "outputs": []
    },
    {
      "cell_type": "code",
      "metadata": {
        "colab_type": "code",
        "id": "kVlUYw5aPIMY",
        "outputId": "5942278f-bb41-4ccc-b7e6-871d449eaa37",
        "colab": {
          "base_uri": "https://localhost:8080/",
          "height": 153
        }
      },
      "source": [
        "xg_fin = XGBRegressor(\n",
        "    n_estimators=447,\n",
        "    max_depth=8,\n",
        "    min_child_weight=3,\n",
        "    gamma=0,\n",
        "    colsample_bytree=0.6,\n",
        "    subsample=0.8,\n",
        "    reg_alpha=1,\n",
        "    learning_rate=0.03,\n",
        ")\n",
        "xg_fin.fit(train_cnX, taincnc_y)"
      ],
      "execution_count": 43,
      "outputs": [
        {
          "output_type": "stream",
          "text": [
            "[09:39:27] WARNING: /workspace/src/objective/regression_obj.cu:152: reg:linear is now deprecated in favor of reg:squarederror.\n"
          ],
          "name": "stdout"
        },
        {
          "output_type": "execute_result",
          "data": {
            "text/plain": [
              "XGBRegressor(base_score=0.5, booster='gbtree', colsample_bylevel=1,\n",
              "             colsample_bynode=1, colsample_bytree=0.6, gamma=0,\n",
              "             importance_type='gain', learning_rate=0.03, max_delta_step=0,\n",
              "             max_depth=8, min_child_weight=3, missing=None, n_estimators=447,\n",
              "             n_jobs=1, nthread=None, objective='reg:linear', random_state=0,\n",
              "             reg_alpha=1, reg_lambda=1, scale_pos_weight=1, seed=None,\n",
              "             silent=None, subsample=0.8, verbosity=1)"
            ]
          },
          "metadata": {
            "tags": []
          },
          "execution_count": 43
        }
      ]
    },
    {
      "cell_type": "code",
      "metadata": {
        "colab_type": "code",
        "id": "LWElWKTuz2Ha",
        "colab": {
          "base_uri": "https://localhost:8080/",
          "height": 34
        },
        "outputId": "eae08e66-7449-459b-cba3-6130adf36f0d"
      },
      "source": [
        "rmse(val_y, xg_fin.predict(val_fin))"
      ],
      "execution_count": 44,
      "outputs": [
        {
          "output_type": "execute_result",
          "data": {
            "text/plain": [
              "179.77947832063563"
            ]
          },
          "metadata": {
            "tags": []
          },
          "execution_count": 44
        }
      ]
    },
    {
      "cell_type": "code",
      "metadata": {
        "colab_type": "code",
        "id": "yw40es6G4bjR",
        "colab": {
          "base_uri": "https://localhost:8080/",
          "height": 34
        },
        "outputId": "71d3823c-c5fe-42a0-be07-bd0a10731d2c"
      },
      "source": [
        "mean_squared_error(val_y, xg_fin.predict(val_fin))"
      ],
      "execution_count": 45,
      "outputs": [
        {
          "output_type": "execute_result",
          "data": {
            "text/plain": [
              "32320.6608252399"
            ]
          },
          "metadata": {
            "tags": []
          },
          "execution_count": 45
        }
      ]
    }
  ]
}